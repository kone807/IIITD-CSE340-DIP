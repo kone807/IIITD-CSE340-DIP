{
 "cells": [
  {
   "cell_type": "markdown",
   "metadata": {},
   "source": [
    "# DIP A-1 (coding questions)\n",
    "\n",
    "## Submitted By : Hardik Garg, 2019040"
   ]
  },
  {
   "cell_type": "markdown",
   "metadata": {},
   "source": [
    "### Q3 - Bilinear Interpolation"
   ]
  },
  {
   "cell_type": "code",
   "execution_count": 2,
   "metadata": {},
   "outputs": [],
   "source": [
    "import numpy as np, cv2\n",
    "from math import *\n",
    "\n",
    "def bilinear_interpolation(image, c):\n",
    "    \n",
    "    M1, N1 = image.shape\n",
    "    M2, N2 = ceil(M1*c), ceil(N1*c)\n",
    "    \n",
    "    # initialize output matrix, -1 serves as a dummy value\n",
    "    final_image = np.full((M2,N2),-1)\n",
    "    \n",
    "    # map input grid to output grid\n",
    "    \n",
    "    for i in range(M1):\n",
    "        for j in range(N1):\n",
    "            if c<1:\n",
    "                final_image[int(i*c)][int(j*c)]=image[i][j]\n",
    "            else:\n",
    "                final_image[ceil(i*c)][ceil(j*c)]=image[i][j]\n",
    "            \n",
    "    print(final_image)\n",
    "    \n",
    "    if c<1:\n",
    "        Mx = int(i*c)\n",
    "        Ny = int(j*c)\n",
    "        \n",
    "    else:\n",
    "        Mx = ceil(i*c)\n",
    "        Ny = ceil(j*c)\n",
    "    \n",
    "    # iterating over values in output matrix corresponding to input matrix\n",
    "    \n",
    "    for i in range(Mx+1):\n",
    "        for j in range(Ny+1):\n",
    "            \n",
    "            if final_image[i][j]==-1:\n",
    "                \n",
    "                # find 4 nearest neighbours corresponding to input matrix\n",
    "                print(i,j)\n",
    "                x,y = i/c, j/c\n",
    "                \n",
    "                # x1<x2 and y1<y2\n",
    "                \n",
    "                if ceil(x)!=x and ceil(x)<Mx:\n",
    "                    x1=floor(x)\n",
    "                    x2=ceil(x)\n",
    "                    \n",
    "                else:\n",
    "                    if x==0:\n",
    "                        x1=0\n",
    "                        x2=1\n",
    "                    else:\n",
    "                        x1=x-1\n",
    "                        x2=x\n",
    "                \n",
    "            \n",
    "                if ceil(y)!=y and ceil(y)<Ny:\n",
    "                    y1=floor(y)\n",
    "                    y2=ceil(y)\n",
    "                    \n",
    "                else:\n",
    "                    if y==0:\n",
    "                        y1=0\n",
    "                        y2=1\n",
    "                    else:\n",
    "                        y1=y-1\n",
    "                        y2=y\n",
    "                        \n",
    "                \n",
    "                \n",
    "                # convert to int\n",
    "                x1,x2,y1,y2 = int(x1),int(x2),int(y1),int(y2)\n",
    "                \n",
    "                # we will apply bilinear equation\n",
    "                # V = XA or A = inv(X)V\n",
    "                \n",
    "                X = np.array([[x1,y1,x1*y1,1],\n",
    "                              [x1,y2,x1*y2,1],\n",
    "                              [x2,y1,x2*y1,1],\n",
    "                              [x2,y2,x2*y2,1]])\n",
    "                \n",
    "                V = np.array([[image[x1][y1]], [image[x1][y2]], [image[x2][y1]], [image[x2][y2]]])\n",
    "                \n",
    "                A = np.dot(np.linalg.inv(X),V)\n",
    "                \n",
    "                \n",
    "                # now calculate V = XA\n",
    "                \n",
    "                final_image[i][j] = np.dot(np.array([x,y,x*y,1]),A)\n",
    "                \n",
    "                if(i==1 and j==1):\n",
    "                    print(x,y,x*y,1)\n",
    "                    print(final_image[i][j])\n",
    "    \n",
    "    # mirrorizing boundaries (replacing all -1s with adjacent non -1 values)\n",
    "    \n",
    "    for i in range(M2):\n",
    "        for j in range(Ny+1,N2):\n",
    "            final_image[i][j]=final_image[i][j-1]\n",
    "        \n",
    "    for j in range(N2):\n",
    "        for i in range(Mx+1,M2):\n",
    "            final_image[i][j]=final_image[i-1][j]\n",
    "      \n",
    "    return final_image"
   ]
  },
  {
   "cell_type": "code",
   "execution_count": 183,
   "metadata": {},
   "outputs": [],
   "source": [
    "path = \"/home/hardeekh/Desktop/IIIT/Semester 5 (Monsoon 2021)/DIP/A-1/\"\n",
    "name=\"x5.bmp\"\n",
    "image = cv2.imread(path+name,0)\n",
    "c=0.25"
   ]
  },
  {
   "cell_type": "code",
   "execution_count": 184,
   "metadata": {},
   "outputs": [
    {
     "name": "stdout",
     "output_type": "stream",
     "text": [
      "[[180 213 115 ...  97 135 105]\n",
      " [189 211 152 ...  98  95 106]\n",
      " [203 182 199 ...  82  89 140]\n",
      " ...\n",
      " [105 112 106 ... 115 118 116]\n",
      " [105 104 100 ... 116 106 116]\n",
      " [ 99  97  96 ...  97  98 109]]\n"
     ]
    }
   ],
   "source": [
    "# this cell takes some time to execute\n",
    "\n",
    "final_image = bilinear_interpolation(image,c)\n",
    "cv2.imwrite(\"y5.bmp\",final_image)\n",
    "interpolated_image = cv2.imread(path+\"y5.bmp\",0)"
   ]
  },
  {
   "cell_type": "code",
   "execution_count": 132,
   "metadata": {},
   "outputs": [],
   "source": [
    "cv2.imshow(\"before interpolation\", image)\n",
    "cv2.imshow(\"after interpolation\", interpolated_image)\n",
    "cv2.waitKey(0)\n",
    "cv2.destroyAllWindows()"
   ]
  },
  {
   "cell_type": "code",
   "execution_count": 5,
   "metadata": {},
   "outputs": [
    {
     "data": {
      "text/plain": [
       "(128, 128)"
      ]
     },
     "execution_count": 5,
     "metadata": {},
     "output_type": "execute_result"
    }
   ],
   "source": [
    "interpolated_image.shape"
   ]
  },
  {
   "cell_type": "code",
   "execution_count": 47,
   "metadata": {},
   "outputs": [
    {
     "name": "stdout",
     "output_type": "stream",
     "text": [
      "[[ 5 10 -1]\n",
      " [10 20 -1]\n",
      " [-1 -1 -1]]\n",
      "[[ 5 10 10]\n",
      " [10 20 20]\n",
      " [10 20 20]]\n"
     ]
    }
   ],
   "source": [
    "arr = np.array([[5,10],[10,20]])\n",
    "print(bilinear_interpolation(arr,1.5))"
   ]
  },
  {
   "cell_type": "markdown",
   "metadata": {},
   "source": [
    "### Q4 - Geometric Transformation of given Image"
   ]
  },
  {
   "cell_type": "code",
   "execution_count": 31,
   "metadata": {},
   "outputs": [
    {
     "data": {
      "text/plain": [
       "array([[ 5, 10],\n",
       "       [10, 20]])"
      ]
     },
     "execution_count": 31,
     "metadata": {},
     "output_type": "execute_result"
    }
   ],
   "source": [
    "img"
   ]
  },
  {
   "cell_type": "code",
   "execution_count": 2,
   "metadata": {},
   "outputs": [],
   "source": [
    "import numpy as np\n",
    "\n",
    "x = np.array([2,1,1])\n",
    "T = np.array([[2,0,0],\n",
    "              [0,2,0],\n",
    "              [0,0,1]])\n",
    "\n",
    "y = np.dot(x,np.linalg.inv(T))"
   ]
  },
  {
   "cell_type": "code",
   "execution_count": 3,
   "metadata": {},
   "outputs": [
    {
     "data": {
      "text/plain": [
       "array([1. , 0.5, 1. ])"
      ]
     },
     "execution_count": 3,
     "metadata": {},
     "output_type": "execute_result"
    }
   ],
   "source": []
  },
  {
   "cell_type": "code",
   "execution_count": 230,
   "metadata": {},
   "outputs": [],
   "source": [
    "import numpy as np, cv2\n",
    "from math import *\n",
    "\n",
    "def transform(image, T):\n",
    "    \n",
    "    \n",
    "    M1, N1 = image.shape\n",
    "    M2, N2 = M1,N1\n",
    "    \n",
    "    # initialize output matrix, -1 serves as a dummy value\n",
    "    final_image = np.full((M2,N2),-1)\n",
    "    \n",
    "    midX, midY = image.shape\n",
    "    print(midX, midY)\n",
    "    midX = midX//7\n",
    "    midY = midY//7\n",
    "    originX, originY = int(3*midX), int(3*midY)\n",
    "    print(midX,midY)\n",
    "    \n",
    "    T_inv = np.linalg.inv(T)\n",
    "    print(T_inv)\n",
    "    count=0\n",
    "    # iterating over values in output matrix corresponding to input matrix\n",
    "    \n",
    "    for i in range(M2):\n",
    "        for j in range(N2):\n",
    "            \n",
    "            if final_image[i][j]==-1:\n",
    "                \n",
    "                # apply transformation\n",
    "                \n",
    "                i-=originX\n",
    "                j-=originY\n",
    "                input_matrix = np.dot(np.array([i,j,1]),T_inv)\n",
    "                i+=originX\n",
    "                j+=originY\n",
    "                \n",
    "                # find 4 nearest neighbours corresponding to input matrix\n",
    "                x,y = input_matrix[0]+originX, input_matrix[1]+originY\n",
    "                \n",
    "                #if i==128 and j==128:\n",
    "                 #   print(\"output:\",i,j,\"input:\",x,y)\n",
    "                    \n",
    "                if x<originX or y<originY or x>=originX+midX or y>=originY+midY:\n",
    "                    continue\n",
    "                \n",
    "                #print(\"output:\",i,j,\"input:\",x,y)\n",
    "                # x1<x2 and y1<y2\n",
    "                \n",
    "                if ceil(x)!=x and ceil(x)<originX+midX:\n",
    "                    x1=floor(x)\n",
    "                    x2=ceil(x)\n",
    "                    \n",
    "                else:\n",
    "                    if x==0:\n",
    "                        x1=0\n",
    "                        x2=1\n",
    "                    else:\n",
    "                        x1=x-1\n",
    "                        x2=x\n",
    "                \n",
    "            \n",
    "                if ceil(y)!=y and ceil(y)<originY+midY:\n",
    "                    y1=floor(y)\n",
    "                    y2=ceil(y)\n",
    "                    \n",
    "                else:\n",
    "                    if y==0:\n",
    "                        y1=0\n",
    "                        y2=1\n",
    "                    else:\n",
    "                        y1=y-1\n",
    "                        y2=y\n",
    "                        \n",
    "                # convert to int\n",
    "                x1,x2,y1,y2 = int(x1),int(x2),int(y1),int(y2)\n",
    "                \n",
    "                if x1<originX or x2<originX or y1<originY or y2<originY or x1>=originX+midX or x2>=originX+midX or y1>=originY+midY or y2>=originY+midY:\n",
    "                    continue\n",
    "                # we will apply bilinear equation\n",
    "                # V = XA or A = inv(X)V\n",
    "                \n",
    "                X = np.array([[x1,y1,x1*y1,1],\n",
    "                              [x1,y2,x1*y2,1],\n",
    "                              [x2,y1,x2*y1,1],\n",
    "                              [x2,y2,x2*y2,1]])\n",
    "                \n",
    "                V = np.array([[image[x1][y1]], [image[x1][y2]], [image[x2][y1]], [image[x2][y2]]])\n",
    "                \n",
    "                A = np.dot(np.linalg.inv(X),V)\n",
    "                \n",
    "                \n",
    "                # now calculate V = XA\n",
    "                \n",
    "                final_image[i][j] = np.dot(np.array([x,y,x*y,1]),A)\n",
    "                \n",
    "                #count\n",
    "                count+=1\n",
    "                \n",
    "    print(count)\n",
    "    # mirrorizing boundaries (replacing all -1s with adjacent non -1 values)\n",
    "    \n",
    "    \"\"\"\n",
    "    for i in range(M2):\n",
    "        for j in range(N2,N2):\n",
    "            final_image[i][j]=final_image[i][j-1]\n",
    "        \n",
    "    for j in range(N2):\n",
    "        for i in range(M2,M2):\n",
    "            final_image[i][j]=final_image[i-1][j]\n",
    "    \"\"\"\n",
    "    return final_image"
   ]
  },
  {
   "cell_type": "code",
   "execution_count": 231,
   "metadata": {},
   "outputs": [],
   "source": [
    "import math\n",
    "\n",
    "## default rotation is anti-clockwise\n",
    "def get_rotation_matrix(degrees):\n",
    "    \n",
    "    s = math.sin(math.radians(degrees))\n",
    "    c = math.sin(math.radians(degrees))\n",
    "    \n",
    "    T = np.array([[c,-s,0],\n",
    "                  [s,c,0],\n",
    "                  [0,0,1]])\n",
    "    return T\n",
    "    \n",
    "def get_scaling_matrix(scale_x, scale_y):\n",
    "    \n",
    "    T = np.array([[scale_x,0,0],\n",
    "                  [0,scale_y,0],\n",
    "                  [0,0,1]])\n",
    "    return T\n",
    "\n",
    "## dis_x moves up/down and dis_y moves left/right\n",
    "def get_translation_matrix(dis_x,dis_y):\n",
    "    \n",
    "    T = np.array([[1,0,0],\n",
    "                  [0,1,0],\n",
    "                  [dis_x,dis_y,1]])\n",
    "    return T"
   ]
  },
  {
   "cell_type": "code",
   "execution_count": 214,
   "metadata": {},
   "outputs": [],
   "source": [
    "\n",
    "M,N = interpolated_image.shape\n",
    "padded_img = cv2.copyMakeBorder(interpolated_image,int(3*M),int(3*M),int(3*N),int(3*N),cv2.BORDER_CONSTANT,None,value=0)\n",
    "\n",
    "#padded_img.shape, rotated_img.shape\n",
    "##xx=np.dot(np.array([0,0,1]), np.linalg.inv(np.array([[1,0,0],[0,1,0],[30,0,1]])))\n",
    "##print(xx)"
   ]
  },
  {
   "cell_type": "code",
   "execution_count": 211,
   "metadata": {},
   "outputs": [],
   "source": [
    "cv2.imshow(\"before interpolation\", padded_img)\n",
    "cv2.waitKey(0)\n",
    "cv2.destroyAllWindows()"
   ]
  },
  {
   "cell_type": "code",
   "execution_count": 256,
   "metadata": {},
   "outputs": [
    {
     "name": "stdout",
     "output_type": "stream",
     "text": [
      "896 896\n",
      "128 128\n",
      "[[  0.35355339   0.35355339   0.        ]\n",
      " [ -0.35355339   0.35355339  -0.        ]\n",
      " [ -0.         -21.21320344   1.        ]]\n",
      "65522\n",
      "5.88225793838501\n"
     ]
    }
   ],
   "source": [
    "import time\n",
    "t = time.time()\n",
    "\n",
    "A = get_rotation_matrix(45)\n",
    "B = get_scaling_matrix(2,2)\n",
    "C = get_translation_matrix(30,30)\n",
    "\n",
    "T = np.dot(C,np.dot(B,A))\n",
    "T = np.dot(A,np.dot(B,C))\n",
    "#T=np.dot(A,B)\n",
    "#img1 = transform(padded_img,get_rotation_matrix(45))\n",
    "#img2 = transform(padded_img,get_scaling_matrix(2,2))\n",
    "#img3 = transform(padded_img,get_translation_matrix(30,0))\n",
    "img4 = transform(padded_img, T)\n",
    "print(time.time()-t)"
   ]
  },
  {
   "cell_type": "code",
   "execution_count": 206,
   "metadata": {},
   "outputs": [
    {
     "name": "stdout",
     "output_type": "stream",
     "text": [
      "[389.21024484  30.           1.        ] [ 209.60512242 -149.60512242    1.        ] [209.60512242 209.60512242   1.        ]\n"
     ]
    }
   ],
   "source": [
    "a = interpolated_image\n",
    "\n",
    "a = np.array([127,127,1])\n",
    "b = np.array([127,0,1])\n",
    "c = np.array([0,127,1])\n",
    "\n",
    "print(np.dot(a,T), np.dot(b,T), np.dot(c,T))"
   ]
  },
  {
   "cell_type": "code",
   "execution_count": 209,
   "metadata": {},
   "outputs": [],
   "source": [
    "\n",
    "M,N = interpolated_image.shape\n",
    "padded_img = cv2.copyMakeBorder(interpolated_image,0,391-128,150,210-128,cv2.BORDER_CONSTANT,None,value=0)\n",
    "\n",
    "#padded_img.shape, rotated_img.shape\n",
    "##xx=np.dot(np.array([0,0,1]), np.linalg.inv(np.array([[1,0,0],[0,1,0],[30,0,1]])))\n",
    "##print(xx)"
   ]
  },
  {
   "cell_type": "code",
   "execution_count": 210,
   "metadata": {},
   "outputs": [
    {
     "data": {
      "text/plain": [
       "((896, 896), (391, 360))"
      ]
     },
     "execution_count": 210,
     "metadata": {},
     "output_type": "execute_result"
    }
   ],
   "source": [
    "img4.shape, padded_img.shape"
   ]
  },
  {
   "cell_type": "code",
   "execution_count": 143,
   "metadata": {},
   "outputs": [
    {
     "ename": "ValueError",
     "evalue": "shapes (128,128) and (512,512) not aligned: 128 (dim 1) != 512 (dim 0)",
     "output_type": "error",
     "traceback": [
      "\u001b[0;31m---------------------------------------------------------------------------\u001b[0m",
      "\u001b[0;31mValueError\u001b[0m                                Traceback (most recent call last)",
      "\u001b[0;32m<ipython-input-143-8790bb6c6738>\u001b[0m in \u001b[0;36m<module>\u001b[0;34m\u001b[0m\n\u001b[1;32m      1\u001b[0m \u001b[0;31m# V = XT\u001b[0m\u001b[0;34m\u001b[0m\u001b[0;34m\u001b[0m\u001b[0;34m\u001b[0m\u001b[0m\n\u001b[0;32m----> 2\u001b[0;31m \u001b[0mT\u001b[0m \u001b[0;34m=\u001b[0m \u001b[0mnp\u001b[0m\u001b[0;34m.\u001b[0m\u001b[0mdot\u001b[0m\u001b[0;34m(\u001b[0m\u001b[0mnp\u001b[0m\u001b[0;34m.\u001b[0m\u001b[0mlinalg\u001b[0m\u001b[0;34m.\u001b[0m\u001b[0minv\u001b[0m\u001b[0;34m(\u001b[0m\u001b[0mpadded_img\u001b[0m\u001b[0;34m)\u001b[0m\u001b[0;34m,\u001b[0m\u001b[0mimg4\u001b[0m\u001b[0;34m)\u001b[0m\u001b[0;34m\u001b[0m\u001b[0;34m\u001b[0m\u001b[0m\n\u001b[0m",
      "\u001b[0;32m<__array_function__ internals>\u001b[0m in \u001b[0;36mdot\u001b[0;34m(*args, **kwargs)\u001b[0m\n",
      "\u001b[0;31mValueError\u001b[0m: shapes (128,128) and (512,512) not aligned: 128 (dim 1) != 512 (dim 0)"
     ]
    }
   ],
   "source": [
    "# V = XT\n",
    "T = np.dot(np.linalg.inv(padded_img),img4)"
   ]
  },
  {
   "cell_type": "code",
   "execution_count": 257,
   "metadata": {},
   "outputs": [],
   "source": [
    "# this cell takes some time to execute\n",
    "\n",
    "#final_image = bilinear_interpolation(image,c)\n",
    "#cv2.imwrite(\"y6.bmp\",img1)\n",
    "#cv2.imwrite(\"y7.bmp\",img2)\n",
    "#cv2.imwrite(\"y8.bmp\",img3)\n",
    "cv2.imwrite(\"y9.bmp\",img4)\n",
    "#rotated_img = cv2.imread(path+\"y6.bmp\",0)\n",
    "#scaled_img = cv2.imread(path+\"y7.bmp\",0)\n",
    "#translated_img = cv2.imread(path+\"y8.bmp\",0)\n",
    "combined_img = cv2.imread(path+\"y9.bmp\",0)"
   ]
  },
  {
   "cell_type": "code",
   "execution_count": 258,
   "metadata": {},
   "outputs": [],
   "source": [
    "cv2.imshow(\"before interpolation\", padded_img)\n",
    "#cv2.imshow(\"after interpolation\", rotated_img)\n",
    "#cv2.imshow(\"after interpolation\", scaled_img)\n",
    "#cv2.imshow(\"after interpolation\", translated_img)\n",
    "cv2.imshow(\"after interpolation\", combined_img)\n",
    "\n",
    "cv2.waitKey(0)\n",
    "cv2.destroyAllWindows()"
   ]
  },
  {
   "cell_type": "code",
   "execution_count": 193,
   "metadata": {},
   "outputs": [
    {
     "data": {
      "text/plain": [
       "array([[-1, -1, -1, ..., -1, -1, -1],\n",
       "       [-1, -1, -1, ..., -1, -1, -1],\n",
       "       [-1, -1, -1, ..., -1, -1, -1],\n",
       "       ...,\n",
       "       [-1, -1, -1, ..., -1, -1, -1],\n",
       "       [-1, -1, -1, ..., -1, -1, -1],\n",
       "       [-1, -1, -1, ..., -1, -1, -1]])"
      ]
     },
     "execution_count": 193,
     "metadata": {},
     "output_type": "execute_result"
    }
   ],
   "source": [
    "## Q5\n",
    "\n",
    "## V = XT\n",
    "img4.shape, padded_img.shape\n",
    "\n"
   ]
  },
  {
   "cell_type": "code",
   "execution_count": 192,
   "metadata": {},
   "outputs": [
    {
     "ename": "LinAlgError",
     "evalue": "Singular matrix",
     "output_type": "error",
     "traceback": [
      "\u001b[0;31m------------------------------------------------------------\u001b[0m",
      "\u001b[0;31mLinAlgError\u001b[0m                Traceback (most recent call last)",
      "\u001b[0;32m<ipython-input-192-8f03b52a6080>\u001b[0m in \u001b[0;36m<module>\u001b[0;34m\u001b[0m\n\u001b[0;32m----> 1\u001b[0;31m \u001b[0mT\u001b[0m \u001b[0;34m=\u001b[0m \u001b[0mnp\u001b[0m\u001b[0;34m.\u001b[0m\u001b[0mdot\u001b[0m\u001b[0;34m(\u001b[0m\u001b[0mnp\u001b[0m\u001b[0;34m.\u001b[0m\u001b[0mlinalg\u001b[0m\u001b[0;34m.\u001b[0m\u001b[0minv\u001b[0m\u001b[0;34m(\u001b[0m\u001b[0mimg4\u001b[0m\u001b[0;34m)\u001b[0m\u001b[0;34m,\u001b[0m\u001b[0mpadded_img\u001b[0m\u001b[0;34m)\u001b[0m\u001b[0;34m\u001b[0m\u001b[0;34m\u001b[0m\u001b[0m\n\u001b[0m",
      "\u001b[0;32m<__array_function__ internals>\u001b[0m in \u001b[0;36minv\u001b[0;34m(*args, **kwargs)\u001b[0m\n",
      "\u001b[0;32m~/.local/lib/python3.8/site-packages/numpy/linalg/linalg.py\u001b[0m in \u001b[0;36minv\u001b[0;34m(a)\u001b[0m\n\u001b[1;32m    544\u001b[0m     \u001b[0msignature\u001b[0m \u001b[0;34m=\u001b[0m \u001b[0;34m'D->D'\u001b[0m \u001b[0;32mif\u001b[0m \u001b[0misComplexType\u001b[0m\u001b[0;34m(\u001b[0m\u001b[0mt\u001b[0m\u001b[0;34m)\u001b[0m \u001b[0;32melse\u001b[0m \u001b[0;34m'd->d'\u001b[0m\u001b[0;34m\u001b[0m\u001b[0;34m\u001b[0m\u001b[0m\n\u001b[1;32m    545\u001b[0m     \u001b[0mextobj\u001b[0m \u001b[0;34m=\u001b[0m \u001b[0mget_linalg_error_extobj\u001b[0m\u001b[0;34m(\u001b[0m\u001b[0m_raise_linalgerror_singular\u001b[0m\u001b[0;34m)\u001b[0m\u001b[0;34m\u001b[0m\u001b[0;34m\u001b[0m\u001b[0m\n\u001b[0;32m--> 546\u001b[0;31m     \u001b[0mainv\u001b[0m \u001b[0;34m=\u001b[0m \u001b[0m_umath_linalg\u001b[0m\u001b[0;34m.\u001b[0m\u001b[0minv\u001b[0m\u001b[0;34m(\u001b[0m\u001b[0ma\u001b[0m\u001b[0;34m,\u001b[0m \u001b[0msignature\u001b[0m\u001b[0;34m=\u001b[0m\u001b[0msignature\u001b[0m\u001b[0;34m,\u001b[0m \u001b[0mextobj\u001b[0m\u001b[0;34m=\u001b[0m\u001b[0mextobj\u001b[0m\u001b[0;34m)\u001b[0m\u001b[0;34m\u001b[0m\u001b[0;34m\u001b[0m\u001b[0m\n\u001b[0m\u001b[1;32m    547\u001b[0m     \u001b[0;32mreturn\u001b[0m \u001b[0mwrap\u001b[0m\u001b[0;34m(\u001b[0m\u001b[0mainv\u001b[0m\u001b[0;34m.\u001b[0m\u001b[0mastype\u001b[0m\u001b[0;34m(\u001b[0m\u001b[0mresult_t\u001b[0m\u001b[0;34m,\u001b[0m \u001b[0mcopy\u001b[0m\u001b[0;34m=\u001b[0m\u001b[0;32mFalse\u001b[0m\u001b[0;34m)\u001b[0m\u001b[0;34m)\u001b[0m\u001b[0;34m\u001b[0m\u001b[0;34m\u001b[0m\u001b[0m\n\u001b[1;32m    548\u001b[0m \u001b[0;34m\u001b[0m\u001b[0m\n",
      "\u001b[0;32m~/.local/lib/python3.8/site-packages/numpy/linalg/linalg.py\u001b[0m in \u001b[0;36m_raise_linalgerror_singular\u001b[0;34m(err, flag)\u001b[0m\n\u001b[1;32m     86\u001b[0m \u001b[0;34m\u001b[0m\u001b[0m\n\u001b[1;32m     87\u001b[0m \u001b[0;32mdef\u001b[0m \u001b[0m_raise_linalgerror_singular\u001b[0m\u001b[0;34m(\u001b[0m\u001b[0merr\u001b[0m\u001b[0;34m,\u001b[0m \u001b[0mflag\u001b[0m\u001b[0;34m)\u001b[0m\u001b[0;34m:\u001b[0m\u001b[0;34m\u001b[0m\u001b[0;34m\u001b[0m\u001b[0m\n\u001b[0;32m---> 88\u001b[0;31m     \u001b[0;32mraise\u001b[0m \u001b[0mLinAlgError\u001b[0m\u001b[0;34m(\u001b[0m\u001b[0;34m\"Singular matrix\"\u001b[0m\u001b[0;34m)\u001b[0m\u001b[0;34m\u001b[0m\u001b[0;34m\u001b[0m\u001b[0m\n\u001b[0m\u001b[1;32m     89\u001b[0m \u001b[0;34m\u001b[0m\u001b[0m\n\u001b[1;32m     90\u001b[0m \u001b[0;32mdef\u001b[0m \u001b[0m_raise_linalgerror_nonposdef\u001b[0m\u001b[0;34m(\u001b[0m\u001b[0merr\u001b[0m\u001b[0;34m,\u001b[0m \u001b[0mflag\u001b[0m\u001b[0;34m)\u001b[0m\u001b[0;34m:\u001b[0m\u001b[0;34m\u001b[0m\u001b[0;34m\u001b[0m\u001b[0m\n",
      "\u001b[0;31mLinAlgError\u001b[0m: Singular matrix"
     ]
    }
   ],
   "source": [
    "T = np.dot(np.linalg.inv(img4),padded_img)"
   ]
  },
  {
   "cell_type": "code",
   "execution_count": 243,
   "metadata": {},
   "outputs": [],
   "source": [
    "O = np.array([[425,535,1],\n",
    "              [317,604,1],\n",
    "              [492,594,1],\n",
    "              [378,723,1],\n",
    "              [382,472,1],\n",
    "              [468,519,1]])\n",
    "\n",
    "I = np.array([[431,423,1],\n",
    "              [417,468,1],\n",
    "              [475,420,1],\n",
    "              [480,506,1],\n",
    "              [392,415,1],\n",
    "              [440,402,1]])\n",
    "\n",
    "## O = IT\n",
    "## T = inv(I'I)I'O"
   ]
  },
  {
   "cell_type": "code",
   "execution_count": 244,
   "metadata": {},
   "outputs": [],
   "source": [
    "T1 = np.dot(np.dot(np.linalg.inv(np.dot(I.T,I)),I.T),O)"
   ]
  },
  {
   "cell_type": "code",
   "execution_count": 245,
   "metadata": {},
   "outputs": [
    {
     "data": {
      "text/plain": [
       "array([[ 1.57922346e+00,  1.23732806e+00, -9.02056208e-17],\n",
       "       [-1.55707892e+00,  1.55961792e+00,  1.38777878e-17],\n",
       "       [ 4.00348677e+02, -6.53565507e+02,  1.00000000e+00]])"
      ]
     },
     "execution_count": 245,
     "metadata": {},
     "output_type": "execute_result"
    }
   ],
   "source": [
    "T1"
   ]
  },
  {
   "cell_type": "code",
   "execution_count": 221,
   "metadata": {},
   "outputs": [
    {
     "data": {
      "text/plain": [
       "(6, 3)"
      ]
     },
     "execution_count": 221,
     "metadata": {},
     "output_type": "execute_result"
    }
   ],
   "source": [
    "registered = np.dot(O,np.linalg.inv(T))\n",
    "registered.shape"
   ]
  },
  {
   "cell_type": "code",
   "execution_count": 224,
   "metadata": {},
   "outputs": [
    {
     "ename": "ValueError",
     "evalue": "matmul: Input operand 1 has a mismatch in its core dimension 0, with gufunc signature (n?,k),(k,m?)->(n?,m?) (size 3 is different from 896)",
     "output_type": "error",
     "traceback": [
      "\u001b[0;31m------------------------------------------------------------\u001b[0m",
      "\u001b[0;31mValueError\u001b[0m                 Traceback (most recent call last)",
      "\u001b[0;32m<ipython-input-224-f38b44755c45>\u001b[0m in \u001b[0;36m<module>\u001b[0;34m\u001b[0m\n\u001b[0;32m----> 1\u001b[0;31m \u001b[0mregistered\u001b[0m \u001b[0;34m=\u001b[0m \u001b[0mcombined_img\u001b[0m\u001b[0;34m@\u001b[0m\u001b[0mT\u001b[0m\u001b[0;34m\u001b[0m\u001b[0;34m\u001b[0m\u001b[0m\n\u001b[0m",
      "\u001b[0;31mValueError\u001b[0m: matmul: Input operand 1 has a mismatch in its core dimension 0, with gufunc signature (n?,k),(k,m?)->(n?,m?) (size 3 is different from 896)"
     ]
    }
   ],
   "source": [
    "registered = combined_img@T"
   ]
  },
  {
   "cell_type": "code",
   "execution_count": 250,
   "metadata": {},
   "outputs": [],
   "source": [
    "import numpy as np, cv2\n",
    "from math import *\n",
    "\n",
    "def trans(image, T):\n",
    "    \n",
    "    \n",
    "    M1, N1 = image.shape\n",
    "    M2, N2 = M1,N1\n",
    "    \n",
    "    # initialize output matrix, -1 serves as a dummy value\n",
    "    final_image = np.full((M2,N2),-1)\n",
    "    \n",
    "    print(T)\n",
    "    T_inv = np.linalg.inv(T)\n",
    "    print(T_inv)\n",
    "    count=0\n",
    "    # iterating over values in output matrix corresponding to input matrix\n",
    "    \n",
    "    for i in range(M2):\n",
    "        for j in range(N2):\n",
    "            \n",
    "            if final_image[i][j]==-1:\n",
    "                \n",
    "                # apply transformation\n",
    "                \n",
    "                input_matrix = np.dot(np.array([i,j,1]),T_inv)\n",
    "                               \n",
    "                # find 4 nearest neighbours corresponding to input matrix\n",
    "                x,y = input_matrix[0], input_matrix[1]\n",
    "                \n",
    "                #if i==128 and j==128:\n",
    "                 #   print(\"output:\",i,j,\"input:\",x,y)\n",
    "                    \n",
    "                if x<0 or y<0 or x>=M2 or y>N2:\n",
    "                    continue\n",
    "                \n",
    "                #print(\"output:\",i,j,\"input:\",x,y)\n",
    "                # x1<x2 and y1<y2\n",
    "                \n",
    "                if ceil(x)!=x and ceil(x)<M2:\n",
    "                    x1=floor(x)\n",
    "                    x2=ceil(x)\n",
    "                    \n",
    "                else:\n",
    "                    if x==0:\n",
    "                        x1=0\n",
    "                        x2=1\n",
    "                    else:\n",
    "                        x1=x-1\n",
    "                        x2=x\n",
    "                \n",
    "            \n",
    "                if ceil(y)!=y and ceil(y)<N2:\n",
    "                    y1=floor(y)\n",
    "                    y2=ceil(y)\n",
    "                    \n",
    "                else:\n",
    "                    if y==0:\n",
    "                        y1=0\n",
    "                        y2=1\n",
    "                    else:\n",
    "                        y1=y-1\n",
    "                        y2=y\n",
    "                        \n",
    "                # convert to int\n",
    "                x1,x2,y1,y2 = int(x1),int(x2),int(y1),int(y2)\n",
    "                \n",
    "                if x1<0 or x2<0 or y1<0 or y2<0 or x1>=M2 or x2>=M2 or y1>=N2 or y2>=N2:\n",
    "                    continue\n",
    "                # we will apply bilinear equation\n",
    "                # V = XA or A = inv(X)V\n",
    "                \n",
    "                X = np.array([[x1,y1,x1*y1,1],\n",
    "                              [x1,y2,x1*y2,1],\n",
    "                              [x2,y1,x2*y1,1],\n",
    "                              [x2,y2,x2*y2,1]])\n",
    "                \n",
    "                V = np.array([[image[x1][y1]], [image[x1][y2]], [image[x2][y1]], [image[x2][y2]]])\n",
    "                \n",
    "                A = np.dot(np.linalg.inv(X),V)\n",
    "                \n",
    "                \n",
    "                # now calculate V = XA\n",
    "                \n",
    "                final_image[i][j] = np.dot(np.array([x,y,x*y,1]),A)\n",
    "                \n",
    "                #count\n",
    "                count+=1\n",
    "                \n",
    "    print(count)\n",
    "    # mirrorizing boundaries (replacing all -1s with adjacent non -1 values)\n",
    "    \n",
    "    \"\"\"\n",
    "    for i in range(M2):\n",
    "        for j in range(N2,N2):\n",
    "            final_image[i][j]=final_image[i][j-1]\n",
    "        \n",
    "    for j in range(N2):\n",
    "        for i in range(M2,M2):\n",
    "            final_image[i][j]=final_image[i-1][j]\n",
    "    \"\"\"\n",
    "    return final_image"
   ]
  },
  {
   "cell_type": "code",
   "execution_count": 251,
   "metadata": {},
   "outputs": [
    {
     "name": "stdout",
     "output_type": "stream",
     "text": [
      "[[ 1.57922346e+00  1.23732806e+00 -9.02056208e-17]\n",
      " [-1.55707892e+00  1.55961792e+00  1.38777878e-17]\n",
      " [ 4.00348677e+02 -6.53565507e+02  1.00000000e+00]]\n",
      "[[ 3.55298200e-01 -2.81877009e-01  3.60270686e-17]\n",
      " [ 3.54719788e-01  3.59764559e-01  2.68251820e-17]\n",
      " [ 8.95894539e+01  3.47978794e+02  1.00000000e+00]]\n",
      "802816\n"
     ]
    },
    {
     "data": {
      "text/plain": [
       "'\\n896 896\\n128 128\\n[[  0.35355339   0.35355339   0.        ]\\n [ -0.35355339   0.35355339  -0.        ]\\n [ -0.         -21.21320344   1.        ]]\\n'"
      ]
     },
     "execution_count": 251,
     "metadata": {},
     "output_type": "execute_result"
    }
   ],
   "source": [
    "ss = trans(combined_img,T1)\n",
    "\n",
    "\"\"\"\n",
    "896 896\n",
    "128 128\n",
    "[[  0.35355339   0.35355339   0.        ]\n",
    " [ -0.35355339   0.35355339  -0.        ]\n",
    " [ -0.         -21.21320344   1.        ]]\n",
    "\"\"\""
   ]
  },
  {
   "cell_type": "code",
   "execution_count": 252,
   "metadata": {},
   "outputs": [],
   "source": [
    "cv2.imwrite(\"z9.bmp\",ss)\n",
    "#rotated_img = cv2.imread(path+\"y6.bmp\",0)\n",
    "#scaled_img = cv2.imread(path+\"y7.bmp\",0)\n",
    "#translated_img = cv2.imread(path+\"y8.bmp\",0)\n",
    "combined_img = cv2.imread(path+\"z9.bmp\",0)"
   ]
  },
  {
   "cell_type": "code",
   "execution_count": 253,
   "metadata": {},
   "outputs": [
    {
     "data": {
      "text/plain": [
       "(896, 896)"
      ]
     },
     "execution_count": 253,
     "metadata": {},
     "output_type": "execute_result"
    }
   ],
   "source": [
    "combined_img.shape"
   ]
  },
  {
   "cell_type": "code",
   "execution_count": 254,
   "metadata": {},
   "outputs": [],
   "source": [
    "cv2.imshow(\"after interpolation\", combined_img)\n",
    "\n",
    "cv2.waitKey(0)\n",
    "cv2.destroyAllWindows()"
   ]
  },
  {
   "cell_type": "code",
   "execution_count": null,
   "metadata": {},
   "outputs": [],
   "source": []
  }
 ],
 "metadata": {
  "kernelspec": {
   "display_name": "Python 3",
   "language": "python",
   "name": "python3"
  },
  "language_info": {
   "codemirror_mode": {
    "name": "ipython",
    "version": 3
   },
   "file_extension": ".py",
   "mimetype": "text/x-python",
   "name": "python",
   "nbconvert_exporter": "python",
   "pygments_lexer": "ipython3",
   "version": "3.8.10"
  }
 },
 "nbformat": 4,
 "nbformat_minor": 4
}
